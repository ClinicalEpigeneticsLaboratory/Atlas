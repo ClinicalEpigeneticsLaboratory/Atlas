{
 "cells": [
  {
   "cell_type": "code",
   "execution_count": 1,
   "id": "cce28448-ab55-4a78-ad95-b6fdfe52e663",
   "metadata": {},
   "outputs": [],
   "source": [
    "from atlas import Atlas"
   ]
  },
  {
   "cell_type": "code",
   "execution_count": 3,
   "id": "3111a204-e083-4cca-bd2b-28095e85ff46",
   "metadata": {},
   "outputs": [
    {
     "name": "stdout",
     "output_type": "stream",
     "text": [
      "{'filters': {'op': 'and', 'content': [{'op': 'in', 'content': {'field': 'data_type', 'value': ['Methylation Beta Value', 'Gene Expression Quantification']}}, {'op': '=', 'content': {'field': 'cases.samples.sample_type', 'value': 'Primary Tumor'}}, {'op': 'in', 'content': {'field': 'data_format', 'value': ['txt', 'tsv']}}, {'op': '=', 'content': {'field': 'access', 'value': 'open'}}, {'op': '=', 'content': {'field': 'cases.diagnoses.tissue_or_organ_of_origin', 'value': 'Breast, NOS'}}, {'op': '=', 'content': {'field': 'cases.diagnoses.primary_diagnosis', 'value': 'Infiltrating duct carcinoma, NOS'}}]}, 'fields': 'access,data_category,data_format,data_type,experimental_strategy,platform,cases.case_id,cases.samples.sample_type,cases.diagnoses.tissue_or_organ_of_origin,cases.diagnoses.primary_diagnosis,cases.sample_ids', 'format': 'TSV', 'size': 10000}\n",
      "Manifest already exists. Skipping.\n"
     ]
    }
   ],
   "source": [
    "atlas = Atlas(\"Runs/BC\", \"Breast, NOS\", \"Infiltrating duct carcinoma, NOS\")\n",
    "atlas.prepare_project_dir()\n",
    "atlas.prepare_local_config()\n",
    "sample_sheet = atlas.create_sample_sheet()\n",
    "atlas.create_manifest(sample_sheet)"
   ]
  },
  {
   "cell_type": "code",
   "execution_count": 4,
   "id": "f70a8774-ca4f-4093-9353-41abf71c3a70",
   "metadata": {},
   "outputs": [],
   "source": [
    "atlas.download_data(\"Runs/BC/manifest.tsv\", \"external/gdc-client_Windows_x64/gdc-client.exe\")"
   ]
  }
 ],
 "metadata": {
  "kernelspec": {
   "display_name": "Python 3 (ipykernel)",
   "language": "python",
   "name": "python3"
  },
  "language_info": {
   "codemirror_mode": {
    "name": "ipython",
    "version": 3
   },
   "file_extension": ".py",
   "mimetype": "text/x-python",
   "name": "python",
   "nbconvert_exporter": "python",
   "pygments_lexer": "ipython3",
   "version": "3.10.11"
  }
 },
 "nbformat": 4,
 "nbformat_minor": 5
}
