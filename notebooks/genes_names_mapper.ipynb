{
 "cells": [
  {
   "cell_type": "code",
   "execution_count": 1,
   "id": "0858fc40-864f-456f-9037-b43cddd068fc",
   "metadata": {},
   "outputs": [],
   "source": [
    "import pandas as pd \n",
    "import mygene "
   ]
  },
  {
   "cell_type": "code",
   "execution_count": 2,
   "id": "85c7de7e-3ae9-47db-a8ff-b8228bff719e",
   "metadata": {},
   "outputs": [
    {
     "name": "stderr",
     "output_type": "stream",
     "text": [
      "INFO:biothings.client:querying 1-3...\n",
      "INFO:biothings.client:done.\n",
      "INFO:biothings.client:Finished.\n"
     ]
    }
   ],
   "source": [
    "mg = mygene.MyGeneInfo()\n",
    "ens = ['ENSG00000148795', 'ENSG00000165359', 'ENSG00000150676']\n",
    "ginfo = mg.querymany(ens, scopes='ensembl.gene')"
   ]
  }
 ],
 "metadata": {
  "kernelspec": {
   "display_name": "Python 3 (ipykernel)",
   "language": "python",
   "name": "python3"
  },
  "language_info": {
   "codemirror_mode": {
    "name": "ipython",
    "version": 3
   },
   "file_extension": ".py",
   "mimetype": "text/x-python",
   "name": "python",
   "nbconvert_exporter": "python",
   "pygments_lexer": "ipython3",
   "version": "3.10.11"
  }
 },
 "nbformat": 4,
 "nbformat_minor": 5
}
