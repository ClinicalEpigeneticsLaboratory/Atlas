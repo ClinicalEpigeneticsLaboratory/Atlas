{
 "cells": [
  {
   "cell_type": "code",
   "execution_count": 1,
   "id": "8065911d-5bac-467b-9f20-db4ca1eb3978",
   "metadata": {},
   "outputs": [],
   "source": [
    "from src.blocks_finder import BlocksFinder\n",
    "from src.block import BlockCollector"
   ]
  },
  {
   "cell_type": "code",
   "execution_count": 2,
   "id": "ca69d970-c6fd-4670-ba1b-034710a03b2a",
   "metadata": {},
   "outputs": [],
   "source": [
    "methylation = \"../data/processed/methylation.parquet\"\n",
    "manifest = \"../data/external/epic.parquet\""
   ]
  },
  {
   "cell_type": "code",
   "execution_count": 3,
   "id": "24c8acd7-dcd5-47df-a66d-5d8c3a801d2b",
   "metadata": {},
   "outputs": [],
   "source": [
    "bcf = BlocksFinder(methylation, manifest)"
   ]
  },
  {
   "cell_type": "code",
   "execution_count": 4,
   "id": "24816a2c-e6a9-4134-b856-3c78eec69ddd",
   "metadata": {},
   "outputs": [
    {
     "name": "stderr",
     "output_type": "stream",
     "text": [
      "100%|██████████████████████████████████████████████████████████████████████████████████| 22/22 [00:01<00:00, 21.37it/s]\n"
     ]
    }
   ],
   "source": [
    "bcf.build_genome_map()"
   ]
  },
  {
   "cell_type": "code",
   "execution_count": null,
   "id": "2a0443de-bbc4-423f-91c2-c8dd28797e1f",
   "metadata": {},
   "outputs": [
    {
     "name": "stderr",
     "output_type": "stream",
     "text": [
      "chr7:   2%|█▌                                                                   | 1046/46011 [00:51<1:22:09,  9.12it/s]"
     ]
    }
   ],
   "source": [
    "blocks_collector = BlockCollector()\n",
    "for chromosome in bcf.manifest.CHR_hg38.unique():\n",
    "    blocks_per_chr = bcf.find_blocks(chromosome)\n",
    "    \n",
    "    blocks_collector.add_many(blocks_per_chr)\n",
    "    break"
   ]
  },
  {
   "cell_type": "code",
   "execution_count": 10,
   "id": "d84264a7-0059-4669-abc9-57c893547f69",
   "metadata": {},
   "outputs": [
    {
     "data": {
      "text/html": [
       "<div>\n",
       "<style scoped>\n",
       "    .dataframe tbody tr th:only-of-type {\n",
       "        vertical-align: middle;\n",
       "    }\n",
       "\n",
       "    .dataframe tbody tr th {\n",
       "        vertical-align: top;\n",
       "    }\n",
       "\n",
       "    .dataframe thead th {\n",
       "        text-align: right;\n",
       "    }\n",
       "</style>\n",
       "<table border=\"1\" class=\"dataframe\">\n",
       "  <thead>\n",
       "    <tr style=\"text-align: right;\">\n",
       "      <th>ID_RED</th>\n",
       "      <th>cg25710298</th>\n",
       "      <th>cg05159810</th>\n",
       "      <th>cg04502548</th>\n",
       "      <th>cg07715844</th>\n",
       "    </tr>\n",
       "    <tr>\n",
       "      <th>ID_RED</th>\n",
       "      <th></th>\n",
       "      <th></th>\n",
       "      <th></th>\n",
       "      <th></th>\n",
       "    </tr>\n",
       "  </thead>\n",
       "  <tbody>\n",
       "    <tr>\n",
       "      <th>cg25710298</th>\n",
       "      <td>1.000000</td>\n",
       "      <td>0.862430</td>\n",
       "      <td>0.725879</td>\n",
       "      <td>0.763455</td>\n",
       "    </tr>\n",
       "    <tr>\n",
       "      <th>cg05159810</th>\n",
       "      <td>0.862430</td>\n",
       "      <td>1.000000</td>\n",
       "      <td>0.829915</td>\n",
       "      <td>0.734814</td>\n",
       "    </tr>\n",
       "    <tr>\n",
       "      <th>cg04502548</th>\n",
       "      <td>0.725879</td>\n",
       "      <td>0.829915</td>\n",
       "      <td>1.000000</td>\n",
       "      <td>0.704624</td>\n",
       "    </tr>\n",
       "    <tr>\n",
       "      <th>cg07715844</th>\n",
       "      <td>0.763455</td>\n",
       "      <td>0.734814</td>\n",
       "      <td>0.704624</td>\n",
       "      <td>1.000000</td>\n",
       "    </tr>\n",
       "  </tbody>\n",
       "</table>\n",
       "</div>"
      ],
      "text/plain": [
       "ID_RED      cg25710298  cg05159810  cg04502548  cg07715844\n",
       "ID_RED                                                    \n",
       "cg25710298    1.000000    0.862430    0.725879    0.763455\n",
       "cg05159810    0.862430    1.000000    0.829915    0.734814\n",
       "cg04502548    0.725879    0.829915    1.000000    0.704624\n",
       "cg07715844    0.763455    0.734814    0.704624    1.000000"
      ]
     },
     "execution_count": 10,
     "metadata": {},
     "output_type": "execute_result"
    }
   ],
   "source": [
    "bcf.methylation[blocks_collector.extract_block(\"chr2\")[4].cpgs_in_block].corr()"
   ]
  }
 ],
 "metadata": {
  "kernelspec": {
   "display_name": "Python 3 (ipykernel)",
   "language": "python",
   "name": "python3"
  },
  "language_info": {
   "codemirror_mode": {
    "name": "ipython",
    "version": 3
   },
   "file_extension": ".py",
   "mimetype": "text/x-python",
   "name": "python",
   "nbconvert_exporter": "python",
   "pygments_lexer": "ipython3",
   "version": "3.10.11"
  }
 },
 "nbformat": 4,
 "nbformat_minor": 5
}
